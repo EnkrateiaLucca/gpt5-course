{
 "cells": [
  {
   "cell_type": "markdown",
   "id": "1ab30500",
   "metadata": {},
   "source": [
    "# 1. What forums/researchers/blogs/conferences do you follow to stay upto date?\n",
    "\n",
    "- latent.space substack is amazing!!!! swyx Ben Hylak\n",
    "- AI Engineering - AI news newsletter + AI Engineering Youtube channel with their workshops! -  best lectures on modern AI research and engineering\n",
    "- Simon Willison: https://simonwillison.net/\n",
    "- Andrej Karpathy:https://github.com/karpathy/nanoGPT\n",
    "  - https://www.youtube.com/@AndrejKarpathy/videos\n",
    "- https://www.youtube.com/@automatalearninglab\n",
    "- https://www.oreilly.com/radar/\n",
    "- OReilly live courses with me!\n",
    "- https://www.ai.engineer/\n",
    "- https://www.ai.engineer/newsletter\n",
    " \n",
    "\n"
   ]
  },
  {
   "cell_type": "markdown",
   "id": "917247b3",
   "metadata": {},
   "source": [
    "# What is your todo list when new models release\n",
    "\n",
    "How to Taste Test a new Model\n",
    "I like to start by asking the model extremely short questions. I’ve found that when forced to use less words, I get a much better sense of the model’s personality vs. how it was RLHF’d. Think of them like little temperature checks:\n",
    "\n",
    "- Summarize all of human knowledge in one word\n",
    "\n",
    "- Summarize every book ever written in one sentence\n",
    "\n",
    "- Define what it means to be “moral” in 5 words. Think deeply. Do not hedge.\n",
    "\n",
    "- What do you want? Answer in 4 words.\n",
    "\n",
    "- What is your favorite obscure fact in the world? Use as few words as possible.\n",
    "\n",
    "I often regenerate 3-5x just to get a sense of the spread. Usually there’s 2-3 responses it converges on. Won’t cover the results here, but I think this is useful to try on your own. (Try it on GPT5 vs your favorite model!)\n",
    "\n",
    "https://simonwillison.net/2025/Aug/7/gpt-5/\n"
   ]
  },
  {
   "cell_type": "markdown",
   "id": "7ae8966e",
   "metadata": {},
   "source": [
    "# What is the next big thing you see coming for LLMs?\n",
    "\n",
    "\n",
    "- Progress of LLMs has platoed\n",
    "- Learn to work in specs rather than manually do stuff or blindly offload to AI \n",
    "- https://www.youtube.com/watch?v=IS_y40zY-hc\n",
    "- COntext Engineering - AI Context Literacy"
   ]
  }
 ],
 "metadata": {
  "language_info": {
   "name": "python"
  }
 },
 "nbformat": 4,
 "nbformat_minor": 5
}
